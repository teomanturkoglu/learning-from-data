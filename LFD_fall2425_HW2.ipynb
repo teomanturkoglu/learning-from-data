{
  "cells": [
    {
      "cell_type": "markdown",
      "id": "bb36970405767267",
      "metadata": {
        "collapsed": false,
        "id": "bb36970405767267"
      },
      "source": [
        "Name Surname: Teoman Türkoğlu\n",
        "\n",
        "Student No: 150200095\n",
        "\n",
        "---"
      ]
    },
    {
      "cell_type": "markdown",
      "id": "492f60b5bb5b0611",
      "metadata": {
        "collapsed": false,
        "id": "492f60b5bb5b0611"
      },
      "source": [
        "Libraries to be used\n",
        "\n",
        "---"
      ]
    },
    {
      "cell_type": "code",
      "execution_count": 109,
      "id": "20147ee2b206ecf4",
      "metadata": {
        "id": "20147ee2b206ecf4"
      },
      "outputs": [],
      "source": [
        "from sklearn.linear_model import LogisticRegression\n",
        "from sklearn.tree import DecisionTreeClassifier\n",
        "from sklearn.metrics import accuracy_score\n",
        "from sklearn.datasets import load_iris\n",
        "from sklearn.model_selection import train_test_split\n",
        "import matplotlib.pyplot as plt\n",
        "import numpy as np\n",
        "import pandas as pd"
      ]
    },
    {
      "cell_type": "markdown",
      "id": "b37250ce98e63d7b",
      "metadata": {
        "collapsed": false,
        "id": "b37250ce98e63d7b"
      },
      "source": [
        "#### Logistic Regression (35 points)"
      ]
    },
    {
      "cell_type": "markdown",
      "id": "7985ce0ad919b23",
      "metadata": {
        "collapsed": false,
        "id": "7985ce0ad919b23"
      },
      "source": [
        "Logistic Regression with MSE Loss (5 points)"
      ]
    },
    {
      "cell_type": "code",
      "execution_count": 110,
      "id": "initial_id",
      "metadata": {
        "collapsed": true,
        "id": "initial_id"
      },
      "outputs": [],
      "source": [
        "class LogisticRegressionMSE:\n",
        "    def __init__(self, train_data, train_label, test_data, test_label, learning_rate=0.005, iterations=5000):\n",
        "        self.learning_rate = learning_rate\n",
        "        self.iterations = iterations\n",
        "        self.train_data = train_data\n",
        "        self.train_label = train_label\n",
        "        self.test_data = test_data\n",
        "        self.test_label = test_label\n",
        "\n",
        "        n_samples, n_features = self.train_data.shape\n",
        "        self.weights = np.zeros(n_features)\n",
        "        self.bias = 0\n",
        "\n",
        "        # Compute accuracy of train and test data every 100 iterations during training\n",
        "        self.accuracy_train_data_during_training = []\n",
        "        self.accuracy_test_data_during_training = []\n",
        "\n",
        "    def sigmoid(self, z):\n",
        "        res = 1/(1 + np.exp(-z)) #sigmoid function is 1/(1+e^-x)\n",
        "        return res\n",
        "\n",
        "    def fit(self):\n",
        "        m = self.train_data.shape[0] #get n_samples\n",
        "\n",
        "        for i in range(self.iterations):\n",
        "            #apply sigmoid function to the linear combination of weights and train data to predict\n",
        "            y_pred = self.sigmoid(np.dot(self.train_data, self.weights) + self.bias)\n",
        "\n",
        "            #compute the gradients using mean squared error loss function\n",
        "            dw = (1/m) * np.dot(self.train_data.T, (y_pred - self.train_label) * y_pred * (1 - y_pred)) #with respect to weights\n",
        "            db = (1/m) * np.sum((y_pred - self.train_label) * y_pred * (1 - y_pred)) #with respect to bias\n",
        "\n",
        "            #update weights and bias\n",
        "            self.weights -= self.learning_rate * dw\n",
        "            self.bias -= self.learning_rate * db\n",
        "\n",
        "            if i % 100 == 0: #compute accuracy of train and test data every 100 iterations\n",
        "\n",
        "                #compute training accuracy by predicting train data then comparing with train labels\n",
        "                train_pred_labels = (y_pred >= 0.5).astype(int)\n",
        "                train_accuracy = accuracy_score(self.train_label, train_pred_labels)\n",
        "                self.accuracy_train_data_during_training.append(train_accuracy)\n",
        "\n",
        "                #compute test accuracy by predicting test data then comparing with test labels\n",
        "                y_pred_test = self.sigmoid(np.dot(self.test_data , self.weights) + self.bias)\n",
        "                test_pred_labels = (y_pred_test >= 0.5).astype(int)\n",
        "                test_accuracy = accuracy_score(self.test_label, test_pred_labels)\n",
        "                self.accuracy_test_data_during_training.append(test_accuracy)\n",
        "\n",
        "                #print(f'Iteration {i}, Train Accuracy: {train_accuracy}, Test Accuracy: {test_accuracy}')\n",
        "\n",
        "\n",
        "    def predict(self, test_data):\n",
        "        #apply sigmoid function to the linear combination of weights and test data to predict\n",
        "        y_pred = self.sigmoid(np.dot(test_data, self.weights) + self.bias)\n",
        "        return np.where(y_pred >= 0.5, 1, 0) #return 1 if y_pred >= 0.5 else 0\n"
      ]
    },
    {
      "cell_type": "markdown",
      "id": "1dd93577454d118",
      "metadata": {
        "collapsed": false,
        "id": "1dd93577454d118"
      },
      "source": [
        "Logistic Regression with Cross Entropy Loss (5 points)"
      ]
    },
    {
      "cell_type": "code",
      "execution_count": 111,
      "id": "63c0d732bd96a004",
      "metadata": {
        "id": "63c0d732bd96a004"
      },
      "outputs": [],
      "source": [
        "class LogisticRegressionCrossEntropy:\n",
        "    def __init__(self, train_data, train_label, test_data, test_label, learning_rate=0.005, iterations=5000):\n",
        "        self.learning_rate = learning_rate\n",
        "        self.iterations = iterations\n",
        "        self.train_data = train_data\n",
        "        self.train_label = train_label\n",
        "        self.test_data = test_data\n",
        "        self.test_label = test_label\n",
        "\n",
        "        n_samples, n_features = self.train_data.shape\n",
        "        self.weights = np.zeros(n_features)\n",
        "        self.bias = 0\n",
        "\n",
        "        # Compute accuracy of train and test data every 100 iterations during training\n",
        "        self.accuracy_train_data_during_training = []\n",
        "        self.accuracy_test_data_during_training = []\n",
        "\n",
        "    def sigmoid(self, z):\n",
        "        res = 1/(1 + np.exp(-z)) #sigmoid function is 1/(1+e^-x)\n",
        "        return res\n",
        "\n",
        "    def fit(self):\n",
        "        m = self.train_data.shape[0] #get n_samples\n",
        "\n",
        "        for i in range(self.iterations):\n",
        "            #apply sigmoid function to the linear combination of weights and train data to predict\n",
        "            y_pred = self.sigmoid(np.dot(self.train_data, self.weights) + self.bias)\n",
        "\n",
        "            #compute the gradients using cross entropy loss\n",
        "            dw = (1/m) * np.dot(self.train_data.T, (y_pred - self.train_label)) #with respect to weights\n",
        "            db = (1/m) * np.sum(y_pred - self.train_label) #with respect to bias\n",
        "\n",
        "            #update weights and bias\n",
        "            self.weights -= self.learning_rate * dw\n",
        "            self.bias -= self.learning_rate * db\n",
        "\n",
        "            if i % 100 == 0: #compute accuracy of train and test data every 100 iterations\n",
        "\n",
        "                #compute training accuracy by predicting train data then comparing with train labels\n",
        "                train_pred_labels = (y_pred >= 0.5).astype(int)\n",
        "                train_accuracy = accuracy_score(self.train_label, train_pred_labels)\n",
        "                self.accuracy_train_data_during_training.append(train_accuracy)\n",
        "\n",
        "                #compute test accuracy by predicting test data then comparing with test labels\n",
        "                y_pred_test = self.sigmoid(np.dot(self.test_data , self.weights) + self.bias)\n",
        "                test_pred_labels = (y_pred_test >= 0.5).astype(int)\n",
        "                test_accuracy = accuracy_score(self.test_label, test_pred_labels)\n",
        "                self.accuracy_test_data_during_training.append(test_accuracy)\n",
        "\n",
        "                #print(f'Iteration {i}, Train Accuracy: {train_accuracy}, Test Accuracy: {test_accuracy}')\n",
        "\n",
        "\n",
        "    def predict(self, test_data):\n",
        "        #apply sigmoid function to the linear combination of weights and test data to predict\n",
        "        y_pred = self.sigmoid(np.dot(test_data, self.weights) + self.bias)\n",
        "        return np.where(y_pred >= 0.5, 1, 0) #return 1 if y_pred >= 0.5 else 0"
      ]
    },
    {
      "cell_type": "markdown",
      "id": "c23db8b8eb8b4120",
      "metadata": {
        "collapsed": false,
        "id": "c23db8b8eb8b4120"
      },
      "source": [
        "Validate your implementation using libraries (5 points)\n",
        "\n",
        "(you can generate synthetic data using numpy of import another toy dataset from sklearn)\n"
      ]
    },
    {
      "cell_type": "code",
      "execution_count": 112,
      "id": "d53c553c39dc5470",
      "metadata": {
        "id": "d53c553c39dc5470",
        "colab": {
          "base_uri": "https://localhost:8080/"
        },
        "outputId": "6b12182c-18a1-4900-e94f-7601d69060df"
      },
      "outputs": [
        {
          "output_type": "stream",
          "name": "stdout",
          "text": [
            "MSE accuracy: 0.86\n",
            "Cross Entropy accuracy: 0.875\n",
            "Library Model Accuracy: 0.89\n"
          ]
        }
      ],
      "source": [
        "'''prepare data'''\n",
        "np.random.seed(2)\n",
        "n_samples = 1000\n",
        "n_features = 2\n",
        "\n",
        "X = np.random.randn(n_samples, n_features) + np.random.rand(n_samples, n_features) * 0.5\n",
        "y = ((np.sin(X[:, 0]) + np.cos(X[:, 1])) > 0).astype(int) #nonlinear y function\n",
        "\n",
        "#split the data into training and testing sets\n",
        "X_train, X_test, y_train, y_test = train_test_split(X, y, test_size=0.2, random_state=42)\n",
        "\n",
        "'''Mean Squared Error'''\n",
        "#instantiate and train the logistic regression model with mean squared error loss\n",
        "mse = LogisticRegressionMSE(X_train, y_train, X_test, y_test)\n",
        "mse.fit()\n",
        "\n",
        "#predict using the mean squared error model\n",
        "mse_pred = mse.predict(X_test)\n",
        "mse_acc = accuracy_score(y_test, mse_pred)\n",
        "print(f'MSE accuracy: {mse_acc}')\n",
        "\n",
        "'''Cross Entropy'''\n",
        "#instantiate and train the logistic regression model with cross entropy loss\n",
        "ce = LogisticRegressionCrossEntropy(X_train, y_train, X_test, y_test)\n",
        "ce.fit()\n",
        "\n",
        "#predict using the cross entropy model\n",
        "ce_pred = ce.predict(X_test)\n",
        "ce_acc = accuracy_score(y_test, ce_pred)\n",
        "print(f'Cross Entropy accuracy: {ce_acc}')\n",
        "\n",
        "'''Library Model'''\n",
        "#sklearn Logistic Regression for comparison\n",
        "sklearn_model = LogisticRegression(max_iter = 500)\n",
        "sklearn_model.fit(X_train, y_train)\n",
        "\n",
        "#predict using the sklearn model\n",
        "sklearn_predictions = sklearn_model.predict(X_test)\n",
        "sklearn_accuracy = accuracy_score(y_test, sklearn_predictions)\n",
        "print(f'Library Model Accuracy: {sklearn_accuracy}')"
      ]
    },
    {
      "cell_type": "markdown",
      "id": "6b918079bc6e0742",
      "metadata": {
        "collapsed": false,
        "id": "6b918079bc6e0742"
      },
      "source": [
        "#### Experiment\n",
        "\n",
        "Dataset preparation"
      ]
    },
    {
      "cell_type": "code",
      "execution_count": 113,
      "id": "4b1f2be49d33a646",
      "metadata": {
        "id": "4b1f2be49d33a646"
      },
      "outputs": [],
      "source": [
        "url = \"https://raw.githubusercontent.com/datasciencedojo/datasets/master/titanic.csv\"\n",
        "data = pd.read_csv(url)\n",
        "data['Sex'] = data['Sex'].map({'male': 0, 'female': 1})\n",
        "\n",
        "X = data[['Pclass', 'Sex', 'SibSp','Parch','Fare']].values\n",
        "Y = data['Survived'].values\n",
        "columns = data.columns\n",
        "\n",
        "X_train, X_test, y_train, y_test = train_test_split(X, Y, test_size=0.3, random_state=42)"
      ]
    },
    {
      "cell_type": "markdown",
      "id": "18be025b0b9ceeca",
      "metadata": {
        "collapsed": false,
        "id": "18be025b0b9ceeca"
      },
      "source": [
        "Use two Logistic Regression Methods on the dataset directly (10 points)\n",
        "Show accuracy scores on test data"
      ]
    },
    {
      "cell_type": "code",
      "execution_count": 114,
      "id": "5a83809cfc29cb7e",
      "metadata": {
        "id": "5a83809cfc29cb7e",
        "colab": {
          "base_uri": "https://localhost:8080/"
        },
        "outputId": "96d2f706-a244-40b5-f683-69e5211095c3"
      },
      "outputs": [
        {
          "output_type": "stream",
          "name": "stdout",
          "text": [
            "MSE accuracy: 0.7126865671641791\n",
            "Cross Entropy accuracy: 0.7835820895522388\n"
          ]
        }
      ],
      "source": [
        "'''Mean Squared Error'''\n",
        "#instantiate and train the logistic regression model with mean squared error loss\n",
        "mse = LogisticRegressionMSE(X_train, y_train, X_test, y_test)\n",
        "mse.fit()\n",
        "\n",
        "#predict using the mean squared error model\n",
        "mse_pred = mse.predict(X_test)\n",
        "mse_acc = accuracy_score(y_test, mse_pred)\n",
        "print(f'MSE accuracy: {mse_acc}')\n",
        "\n",
        "'''Cross Entropy'''\n",
        "#instantiate and train the logistic regression model with cross entropy loss\n",
        "ce = LogisticRegressionCrossEntropy(X_train, y_train, X_test, y_test)\n",
        "ce.fit()\n",
        "\n",
        "#predict using the cross entropy model\n",
        "ce_pred = ce.predict(X_test)\n",
        "ce_acc = accuracy_score(y_test, ce_pred)\n",
        "print(f'Cross Entropy accuracy: {ce_acc}')"
      ]
    },
    {
      "cell_type": "markdown",
      "id": "4dad7c6dd018ed69",
      "metadata": {
        "collapsed": false,
        "id": "4dad7c6dd018ed69"
      },
      "source": [
        "Plot the training and test accuracy across the learning iterations of gradient descent"
      ]
    },
    {
      "cell_type": "code",
      "execution_count": 115,
      "id": "c6628eff34ccffd8",
      "metadata": {
        "id": "c6628eff34ccffd8",
        "colab": {
          "base_uri": "https://localhost:8080/",
          "height": 490
        },
        "outputId": "d4d5b461-7b59-4ccc-b1a6-7ea44c254e50"
      },
      "outputs": [
        {
          "output_type": "execute_result",
          "data": {
            "text/plain": [
              "<matplotlib.legend.Legend at 0x7ea10b4ae4d0>"
            ]
          },
          "metadata": {},
          "execution_count": 115
        },
        {
          "output_type": "display_data",
          "data": {
            "text/plain": [
              "<Figure size 640x480 with 1 Axes>"
            ],
            "image/png": "[encoded data removed]"
          },
          "metadata": {}
        }
      ],
      "source": [
        "plt.xlabel('Iterations')\n",
        "plt.ylabel('Percentage Correctly Classified')\n",
        "plt.title('Training Accuracy')\n",
        "plt.plot(mse.accuracy_train_data_during_training, 'r-.', label='Logistic (MSE)')\n",
        "plt.plot(ce.accuracy_train_data_during_training, 'g-', label='Logistic (Cross-Entropy)')\n",
        "plt.legend(loc='best')"
      ]
    },
    {
      "cell_type": "code",
      "execution_count": 116,
      "id": "76a96c9a27288281",
      "metadata": {
        "id": "76a96c9a27288281",
        "colab": {
          "base_uri": "https://localhost:8080/",
          "height": 490
        },
        "outputId": "b1f62105-9a23-434b-e6ab-77d4fc0255d3"
      },
      "outputs": [
        {
          "output_type": "execute_result",
          "data": {
            "text/plain": [
              "<matplotlib.legend.Legend at 0x7ea10f7e3c10>"
            ]
          },
          "metadata": {},
          "execution_count": 116
        },
        {
          "output_type": "display_data",
          "data": {
            "text/plain": [
              "<Figure size 640x480 with 1 Axes>"
            ],
            "image/png": "[encoded data removed]"
          },
          "metadata": {}
        }
      ],
      "source": [
        "plt.xlabel('Iterations')\n",
        "plt.ylabel('Percentage Correctly Classified')\n",
        "plt.title('Test Accuracy')\n",
        "plt.plot(mse.accuracy_test_data_during_training, 'r-.', label='Logistic (MSE)')\n",
        "plt.plot(ce.accuracy_test_data_during_training, 'g-', label='Logistic (Cross-Entropy)')\n",
        "plt.legend(loc='best')"
      ]
    },
    {
      "cell_type": "markdown",
      "id": "738665c431fef363",
      "metadata": {
        "collapsed": false,
        "id": "738665c431fef363"
      },
      "source": [
        "Explain the differences between MSE and Cross Entropy Loss in logistic regression, why is one of the versions of Logistic Regression learning faster in terms of gradient descent iterations than the other? (5 points)"
      ]
    },
    {
      "cell_type": "markdown",
      "id": "70d405eb639852ad",
      "metadata": {
        "collapsed": false,
        "id": "70d405eb639852ad"
      },
      "source": [
        "Answer: MSE is typically used for regression tasks and measures the average squared difference between the predicted values and the actual values. In the context of logistic regression, MSE calculates the difference between the predicted probabilities and the binary class labels (0 or 1). On the other hand, Cross Entropy Loss is specifically designed for classification tasks, particularly binary classification like logistic regression. It measures the distance between the predicted probability distribution and the true class distribution, focusing on how well the model predicts the correct class.\n",
        "\n",
        "When it comes to the learning speed of these two loss functions in terms of gradient descent iterations, Cross Entropy Loss tends to result in faster convergence, as we can see on the plots. This is because it is more closely aligned with the probabilistic nature of logistic regression, providing gradients that directly correspond to the model's outputs. In contrast, MSE leads to slower learning because its gradient is less effective, especially when the predicted probabilities are close to 0 or 1. This can cause the optimization process to be less efficient, as the gradients become smaller in these regions, leading to slower progress in adjusting the model's parameters."
      ]
    },
    {
      "cell_type": "markdown",
      "id": "Z--FQaeJF-v1",
      "metadata": {
        "id": "Z--FQaeJF-v1"
      },
      "source": [
        "Show the plots demonstrating the effects of the learning rate and the number of iterations parameters on the training process (hyperparameter tuning) (5 points)"
      ]
    },
    {
      "cell_type": "code",
      "execution_count": 117,
      "id": "zKJaVVsgF_R8",
      "metadata": {
        "id": "zKJaVVsgF_R8",
        "colab": {
          "base_uri": "https://localhost:8080/"
        },
        "outputId": "6caaf279-b575-4c0a-a229-dcb0a3c0588e"
      },
      "outputs": [
        {
          "output_type": "stream",
          "name": "stdout",
          "text": [
            "MSE accuracy learning_rate=0.005: 0.7126865671641791\n",
            "MSE accuracy learning_rate=0.01: 0.7686567164179104\n",
            "MSE accuracy learning_rate=0.02: 0.7947761194029851\n",
            "\n",
            "MSE accuracy iterations=5000: 0.7126865671641791\n",
            "MSE accuracy iterations=10000: 0.7686567164179104\n",
            "MSE accuracy iterations=20000: 0.7910447761194029\n",
            "\n",
            "Cross Entropy accuracy learning_rate=0.005: 0.7835820895522388\n",
            "Cross Entropy accuracy learning_rate=0.01: 0.8059701492537313\n",
            "Cross Entropy accuracy learning_rate=0.02: 0.6902985074626866\n",
            "\n",
            "Cross Entropy accuracy iterations=5000: 0.7835820895522388\n",
            "Cross Entropy accuracy iterations=10000: 0.8022388059701493\n",
            "Cross Entropy accuracy iterations=20000: 0.8059701492537313\n"
          ]
        }
      ],
      "source": [
        "'''Mean Squared Error'''\n",
        "#instantiate and train the logistic regression model with mean squared error loss\n",
        "mse = LogisticRegressionMSE(X_train, y_train, X_test, y_test, learning_rate=0.005, iterations=5000)\n",
        "mse.fit()\n",
        "\n",
        "#predict using the mean squared error model\n",
        "mse_pred = mse.predict(X_test)\n",
        "mse_acc = accuracy_score(y_test, mse_pred)\n",
        "print(f'MSE accuracy learning_rate=0.005: {mse_acc}')\n",
        "\n",
        "#instantiate and train the logistic regression model with mean squared error loss\n",
        "mse = LogisticRegressionMSE(X_train, y_train, X_test, y_test, learning_rate=0.01, iterations=5000)\n",
        "mse.fit()\n",
        "\n",
        "#predict using the mean squared error model\n",
        "mse_pred = mse.predict(X_test)\n",
        "mse_acc = accuracy_score(y_test, mse_pred)\n",
        "print(f'MSE accuracy learning_rate=0.01: {mse_acc}')\n",
        "\n",
        "#instantiate and train the logistic regression model with mean squared error loss\n",
        "mse = LogisticRegressionMSE(X_train, y_train, X_test, y_test, learning_rate=0.02, iterations=5000)\n",
        "mse.fit()\n",
        "\n",
        "#predict using the mean squared error model\n",
        "mse_pred = mse.predict(X_test)\n",
        "mse_acc = accuracy_score(y_test, mse_pred)\n",
        "print(f'MSE accuracy learning_rate=0.02: {mse_acc}')\n",
        "\n",
        "\n",
        "#instantiate and train the logistic regression model with mean squared error loss\n",
        "mse = LogisticRegressionMSE(X_train, y_train, X_test, y_test, learning_rate=0.005, iterations=5000)\n",
        "mse.fit()\n",
        "\n",
        "#predict using the mean squared error model\n",
        "mse_pred = mse.predict(X_test)\n",
        "mse_acc = accuracy_score(y_test, mse_pred)\n",
        "print(f'\\nMSE accuracy iterations=5000: {mse_acc}')\n",
        "\n",
        "#instantiate and train the logistic regression model with mean squared error loss\n",
        "mse = LogisticRegressionMSE(X_train, y_train, X_test, y_test, learning_rate=0.005, iterations=10000)\n",
        "mse.fit()\n",
        "\n",
        "#predict using the mean squared error model\n",
        "mse_pred = mse.predict(X_test)\n",
        "mse_acc = accuracy_score(y_test, mse_pred)\n",
        "print(f'MSE accuracy iterations=10000: {mse_acc}')\n",
        "\n",
        "#instantiate and train the logistic regression model with mean squared error loss\n",
        "mse = LogisticRegressionMSE(X_train, y_train, X_test, y_test, learning_rate=0.005, iterations=20000)\n",
        "mse.fit()\n",
        "\n",
        "#predict using the mean squared error model\n",
        "mse_pred = mse.predict(X_test)\n",
        "mse_acc = accuracy_score(y_test, mse_pred)\n",
        "print(f'MSE accuracy iterations=20000: {mse_acc}')\n",
        "\n",
        "'''Cross Entropy'''\n",
        "#instantiate and train the logistic regression model with cross entropy loss\n",
        "ce = LogisticRegressionCrossEntropy(X_train, y_train, X_test, y_test, learning_rate=0.005, iterations=5000)\n",
        "ce.fit()\n",
        "\n",
        "#predict using the cross entropy model\n",
        "ce_pred = ce.predict(X_test)\n",
        "ce_acc = accuracy_score(y_test, ce_pred)\n",
        "print(f'\\nCross Entropy accuracy learning_rate=0.005: {ce_acc}')\n",
        "\n",
        "#instantiate and train the logistic regression model with cross entropy loss\n",
        "ce = LogisticRegressionCrossEntropy(X_train, y_train, X_test, y_test, learning_rate=0.01, iterations=5000)\n",
        "ce.fit()\n",
        "\n",
        "#predict using the cross entropy model\n",
        "ce_pred = ce.predict(X_test)\n",
        "ce_acc = accuracy_score(y_test, ce_pred)\n",
        "print(f'Cross Entropy accuracy learning_rate=0.01: {ce_acc}')\n",
        "\n",
        "#instantiate and train the logistic regression model with cross entropy loss\n",
        "ce = LogisticRegressionCrossEntropy(X_train, y_train, X_test, y_test, learning_rate=0.02, iterations=5000)\n",
        "ce.fit()\n",
        "\n",
        "#predict using the cross entropy model\n",
        "ce_pred = ce.predict(X_test)\n",
        "ce_acc = accuracy_score(y_test, ce_pred)\n",
        "print(f'Cross Entropy accuracy learning_rate=0.02: {ce_acc}')\n",
        "\n",
        "\n",
        "#instantiate and train the logistic regression model with cross entropy loss\n",
        "ce = LogisticRegressionCrossEntropy(X_train, y_train, X_test, y_test, learning_rate=0.005, iterations=5000)\n",
        "ce.fit()\n",
        "\n",
        "#predict using the cross entropy model\n",
        "ce_pred = ce.predict(X_test)\n",
        "ce_acc = accuracy_score(y_test, ce_pred)\n",
        "print(f'\\nCross Entropy accuracy iterations=5000: {ce_acc}')\n",
        "\n",
        "#instantiate and train the logistic regression model with cross entropy loss\n",
        "ce = LogisticRegressionCrossEntropy(X_train, y_train, X_test, y_test, learning_rate=0.005, iterations=10000)\n",
        "ce.fit()\n",
        "\n",
        "#predict using the cross entropy model\n",
        "ce_pred = ce.predict(X_test)\n",
        "ce_acc = accuracy_score(y_test, ce_pred)\n",
        "print(f'Cross Entropy accuracy iterations=10000: {ce_acc}')\n",
        "\n",
        "#instantiate and train the logistic regression model with cross entropy loss\n",
        "ce = LogisticRegressionCrossEntropy(X_train, y_train, X_test, y_test, learning_rate=0.005, iterations=20000)\n",
        "ce.fit()\n",
        "\n",
        "#predict using the cross entropy model\n",
        "ce_pred = ce.predict(X_test)\n",
        "ce_acc = accuracy_score(y_test, ce_pred)\n",
        "print(f'Cross Entropy accuracy iterations=20000: {ce_acc}')"
      ]
    },
    {
      "cell_type": "markdown",
      "id": "851b964febdb3d01",
      "metadata": {
        "collapsed": false,
        "id": "851b964febdb3d01"
      },
      "source": [
        "#### Decision Tree (35 points)\n",
        "\n",
        "Implement Decision Tree Method (5 points)"
      ]
    },
    {
      "cell_type": "code",
      "execution_count": 98,
      "id": "66b41a4389791aa3",
      "metadata": {
        "id": "66b41a4389791aa3"
      },
      "outputs": [],
      "source": [
        "class DecisionTree:\n",
        "    def __init__(self, columns, depth=None):\n",
        "        self.max_depth = depth\n",
        "        self.columns = columns\n",
        "\n",
        "    def fit(self, train_data, train_label):\n",
        "        def entropy(y): #calculate entropy to determine the best split\n",
        "            counts = np.unique(y, return_counts=True)[1]\n",
        "            probabilities = counts / len(y) #probability of each class\n",
        "            return -np.sum(probabilities * np.log2(probabilities))\n",
        "\n",
        "        def information_gain(y, left_y, right_y): #calculate information gain from a split\n",
        "            p = len(left_y) / len(y) #probability of left split\n",
        "            return entropy(y) - p * entropy(left_y) - (1 - p) * entropy(right_y)\n",
        "\n",
        "        def split_data(X, y, feature_idx, threshold): #split data based on a feature and threshold\n",
        "            left_mask = X[:, feature_idx] <= threshold #create a mask for left split\n",
        "            right_mask = ~left_mask #create a mask for right split\n",
        "            return X[left_mask], y[left_mask], X[right_mask], y[right_mask] #return left and right split data\n",
        "\n",
        "        def build_tree(X, y, depth=0): #recursive function to build the tree\n",
        "            num_samples, num_features = X.shape\n",
        "\n",
        "            #check if the node is a leaf node\n",
        "            if len(np.unique(y)) == 1 or depth == self.max_depth or num_samples == 0:\n",
        "                leaf_value = np.bincount(y).argmax()\n",
        "                return {\"leaf\": True, \"value\": leaf_value}\n",
        "\n",
        "            best_feature, best_threshold, best_gain = None, None, -np.inf #initialize vars\n",
        "\n",
        "            for feature_idx in range(num_features):\n",
        "                thresholds = np.unique(X[:, feature_idx]) #get unique values for each feature\n",
        "\n",
        "                for threshold in thresholds:\n",
        "                    X_left, y_left, X_right, y_right = split_data(X, y, feature_idx, threshold)\n",
        "                    if len(y_left) == 0 or len(y_right) == 0: #skip if no split\n",
        "                        continue\n",
        "\n",
        "                    gain = information_gain(y, y_left, y_right)\n",
        "                    if gain > best_gain: #update best gain if current gain is higher\n",
        "                        best_feature, best_threshold, best_gain = feature_idx, threshold, gain\n",
        "\n",
        "            if best_gain == 0: #if no gain, return a leaf node\n",
        "                leaf_value = np.bincount(y).argmax()\n",
        "                return {\"leaf\": True, \"value\": leaf_value}\n",
        "\n",
        "            #split data based on best feature and threshold\n",
        "            X_left, y_left, X_right, y_right = split_data(X, y, best_feature, best_threshold)\n",
        "            left_child = build_tree(X_left, y_left, depth + 1) #recursively build left subtree\n",
        "            right_child = build_tree(X_right, y_right, depth + 1) #recursively build right subtree\n",
        "\n",
        "            return { #return internal node\n",
        "                \"leaf\": False,\n",
        "                \"feature\": best_feature,\n",
        "                \"threshold\": best_threshold,\n",
        "                \"left\": left_child,\n",
        "                \"right\": right_child,\n",
        "            }\n",
        "\n",
        "        self.root = build_tree(train_data, train_label) #build the tree to train the model\n",
        "\n",
        "    def predict(self, test_data): #predict using the trained model\n",
        "        def traverse_tree(x, node): #recursive function to traverse the tree\n",
        "            if node[\"leaf\"]: #return the value if it is a leaf node\n",
        "                return node[\"value\"]\n",
        "\n",
        "            #traverse left subtree if feature value is less than threshold\n",
        "            if x[node[\"feature\"]] <= node[\"threshold\"]:\n",
        "                return traverse_tree(x, node[\"left\"])\n",
        "\n",
        "            else: #traverse right subtree if feature value is greater than threshold\n",
        "                return traverse_tree(x, node[\"right\"])\n",
        "\n",
        "        #predict by traversing the tree for each test data\n",
        "        return np.array([traverse_tree(x, self.root) for x in test_data])\n",
        "\n",
        "    def print_tree(self):\n",
        "        def traverse(node, depth=0): #preorder traversal for print function\n",
        "            if node[\"leaf\"]: #leaf nodes should be printed as Left/Right Leaf: label value\n",
        "                print(\"\\t\" * depth + f\"Leaf: {node['value']}\") #an extra tab for each depth level\n",
        "                return\n",
        "\n",
        "            #internal nodes should be printed as feature_name <= threshold value\n",
        "            print(\"\\t\" * depth + f\"{self.columns[node['feature']]} <= {node['threshold']}\")\n",
        "\n",
        "            traverse(node[\"left\"], depth + 1)\n",
        "            traverse(node[\"right\"], depth + 1)\n",
        "\n",
        "        traverse(self.root)"
      ]
    },
    {
      "cell_type": "markdown",
      "id": "5d5595ab12e2a999",
      "metadata": {
        "collapsed": false,
        "id": "5d5595ab12e2a999"
      },
      "source": [
        "Validate your implementation using libraries (5 points)\n",
        "\n",
        "(you can generate synthetic data using numpy of import another toy dataset from sklearn)\n"
      ]
    },
    {
      "cell_type": "code",
      "execution_count": 99,
      "id": "2bf4874bfbe28d11",
      "metadata": {
        "id": "2bf4874bfbe28d11",
        "colab": {
          "base_uri": "https://localhost:8080/"
        },
        "outputId": "a06ed5e6-1ff0-419b-b431-894faf8dfd1a"
      },
      "outputs": [
        {
          "output_type": "stream",
          "name": "stdout",
          "text": [
            "Implemented Decision Tree accuracy: 0.935\n",
            "Library Model Accuracy: 0.94\n"
          ]
        }
      ],
      "source": [
        "'''prepare data'''\n",
        "np.random.seed(42)\n",
        "n_samples = 1000\n",
        "n_features = 2\n",
        "\n",
        "X = np.random.randn(n_samples, n_features) + np.random.rand(n_samples, n_features) * 0.5\n",
        "y = ((np.sin(X[:, 0]) + np.cos(X[:, 1])) > 0).astype(int) #nonlinear y function\n",
        "\n",
        "#split the data into training and testing sets\n",
        "X_train, X_test, y_train, y_test = train_test_split(X, y, test_size=0.2, random_state=42)\n",
        "\n",
        "'''Decision Tree'''\n",
        "#instantiate and train the decision tree model\n",
        "dt = DecisionTree(columns=['feature1', 'feature2'], depth=3)\n",
        "dt.fit(X_train, y_train)\n",
        "\n",
        "#predict using the decision tree model\n",
        "dt_pred = dt.predict(X_test)\n",
        "dt_acc = accuracy_score(y_test, dt_pred)\n",
        "print(f'Implemented Decision Tree accuracy: {dt_acc}')\n",
        "\n",
        "'''Library Model'''\n",
        "#sklearn Decision Tree for comparison\n",
        "sklearn_model = DecisionTreeClassifier(criterion='entropy', max_depth=3)\n",
        "sklearn_model.fit(X_train, y_train)\n",
        "\n",
        "#predict using the sklearn model\n",
        "sklearn_predictions = sklearn_model.predict(X_test)\n",
        "sklearn_accuracy = accuracy_score(y_test, sklearn_predictions)\n",
        "print(f'Library Model Accuracy: {sklearn_accuracy}')"
      ]
    },
    {
      "cell_type": "markdown",
      "id": "c18333b2fcaae3bc",
      "metadata": {
        "collapsed": false,
        "id": "c18333b2fcaae3bc"
      },
      "source": [
        "#### Experiment\n",
        "\n",
        "Dataset preparation"
      ]
    },
    {
      "cell_type": "code",
      "execution_count": 100,
      "id": "500c508d6ec62491",
      "metadata": {
        "id": "500c508d6ec62491"
      },
      "outputs": [],
      "source": [
        "url = \"https://raw.githubusercontent.com/datasciencedojo/datasets/master/titanic.csv\"\n",
        "data = pd.read_csv(url)\n",
        "data['Sex'] = data['Sex'].map({'male': 0, 'female': 1})\n",
        "\n",
        "X = data[['Pclass', 'Sex', 'SibSp','Parch','Fare']].values\n",
        "Y = data['Survived'].values\n",
        "columns = data.columns\n",
        "\n",
        "X_train, X_test, y_train, y_test = train_test_split(X, Y, test_size=0.3, random_state=42)"
      ]
    },
    {
      "cell_type": "markdown",
      "id": "ce26839f952015f1",
      "metadata": {
        "collapsed": false,
        "id": "ce26839f952015f1"
      },
      "source": [
        "Use Decision Tree Method on the dataset directly (10 points)\n",
        "Show accuracy score on test data"
      ]
    },
    {
      "cell_type": "code",
      "execution_count": 101,
      "id": "d2a6f5da032e5fe7",
      "metadata": {
        "id": "d2a6f5da032e5fe7",
        "colab": {
          "base_uri": "https://localhost:8080/"
        },
        "outputId": "4bffeafa-487d-4151-d106-26f51c183f45"
      },
      "outputs": [
        {
          "output_type": "stream",
          "name": "stdout",
          "text": [
            "Implemented Decision Tree accuracy: 0.8097014925373134\n"
          ]
        }
      ],
      "source": [
        "'''Decision Tree'''\n",
        "#instantiate and train the decision tree model\n",
        "dt = DecisionTree(columns=['Pclass', 'Sex', 'SibSp', 'Parch', 'Fare'], depth=3)\n",
        "dt.fit(X_train, y_train)\n",
        "\n",
        "#predict using the decision tree model\n",
        "dt_pred = dt.predict(X_test)\n",
        "dt_acc = accuracy_score(y_test, dt_pred)\n",
        "print(f'Implemented Decision Tree accuracy: {dt_acc}')"
      ]
    },
    {
      "cell_type": "markdown",
      "id": "d34f1ce022b357a1",
      "metadata": {
        "collapsed": false,
        "id": "d34f1ce022b357a1"
      },
      "source": [
        "Print the decision tree (5 points)"
      ]
    },
    {
      "cell_type": "code",
      "execution_count": 102,
      "id": "304bd6ae4271856c",
      "metadata": {
        "id": "304bd6ae4271856c",
        "colab": {
          "base_uri": "https://localhost:8080/"
        },
        "outputId": "f3c1970b-3d3a-477b-873c-eb04e505fe0b"
      },
      "outputs": [
        {
          "output_type": "stream",
          "name": "stdout",
          "text": [
            "Sex <= 0.0\n",
            "\tFare <= 15.5\n",
            "\t\tParch <= 0.0\n",
            "\t\t\tLeaf: 0\n",
            "\t\t\tLeaf: 0\n",
            "\t\tSibSp <= 2.0\n",
            "\t\t\tLeaf: 0\n",
            "\t\t\tLeaf: 0\n",
            "\tPclass <= 2.0\n",
            "\t\tFare <= 146.5208\n",
            "\t\t\tLeaf: 1\n",
            "\t\t\tLeaf: 1\n",
            "\t\tFare <= 23.25\n",
            "\t\t\tLeaf: 1\n",
            "\t\t\tLeaf: 0\n"
          ]
        }
      ],
      "source": [
        "dt.print_tree()"
      ]
    },
    {
      "cell_type": "markdown",
      "id": "oqa92V5xFldO",
      "metadata": {
        "id": "oqa92V5xFldO"
      },
      "source": [
        "Show the impact of the max_depth hyperparameter on the accuracy score (hyperparameter tuning) (5 points)"
      ]
    },
    {
      "cell_type": "code",
      "execution_count": 105,
      "id": "INCKVB_aFrnm",
      "metadata": {
        "id": "INCKVB_aFrnm",
        "colab": {
          "base_uri": "https://localhost:8080/"
        },
        "outputId": "65932b95-5a76-4c21-d773-917674d2cf82"
      },
      "outputs": [
        {
          "output_type": "stream",
          "name": "stdout",
          "text": [
            "Implemented Decision Tree accuracy with max_depth = 2: 0.7723880597014925\n",
            "Implemented Decision Tree accuracy with max_depth = 3: 0.8097014925373134\n",
            "Implemented Decision Tree accuracy with max_depth = 4: 0.7723880597014925\n",
            "Implemented Decision Tree accuracy with max_depth = 5: 0.7761194029850746\n"
          ]
        }
      ],
      "source": [
        "'''max depth 2'''\n",
        "#instantiate and train the decision tree model\n",
        "dt = DecisionTree(columns=['Pclass', 'Sex', 'SibSp', 'Parch', 'Fare'], depth=2)\n",
        "dt.fit(X_train, y_train)\n",
        "\n",
        "#predict using the decision tree model\n",
        "dt_pred = dt.predict(X_test)\n",
        "dt_acc = accuracy_score(y_test, dt_pred)\n",
        "print(f'Implemented Decision Tree accuracy with max_depth = 2: {dt_acc}')\n",
        "\n",
        "'''max depth 3'''\n",
        "#instantiate and train the decision tree model\n",
        "dt = DecisionTree(columns=['Pclass', 'Sex', 'SibSp', 'Parch', 'Fare'], depth=3)\n",
        "dt.fit(X_train, y_train)\n",
        "\n",
        "#predict using the decision tree model\n",
        "dt_pred = dt.predict(X_test)\n",
        "dt_acc = accuracy_score(y_test, dt_pred)\n",
        "print(f'Implemented Decision Tree accuracy with max_depth = 3: {dt_acc}')\n",
        "\n",
        "'''max depth 4'''\n",
        "#instantiate and train the decision tree model\n",
        "dt = DecisionTree(columns=['Pclass', 'Sex', 'SibSp', 'Parch', 'Fare'], depth=4)\n",
        "dt.fit(X_train, y_train)\n",
        "\n",
        "#predict using the decision tree model\n",
        "dt_pred = dt.predict(X_test)\n",
        "dt_acc = accuracy_score(y_test, dt_pred)\n",
        "print(f'Implemented Decision Tree accuracy with max_depth = 4: {dt_acc}')\n",
        "\n",
        "'''max depth 5'''\n",
        "#instantiate and train the decision tree model\n",
        "dt = DecisionTree(columns=['Pclass', 'Sex', 'SibSp', 'Parch', 'Fare'], depth=5)\n",
        "dt.fit(X_train, y_train)\n",
        "\n",
        "#predict using the decision tree model\n",
        "dt_pred = dt.predict(X_test)\n",
        "dt_acc = accuracy_score(y_test, dt_pred)\n",
        "print(f'Implemented Decision Tree accuracy with max_depth = 5: {dt_acc}')"
      ]
    },
    {
      "cell_type": "code",
      "execution_count": 106,
      "id": "4c40abe4d9790def",
      "metadata": {
        "id": "4c40abe4d9790def"
      },
      "outputs": [],
      "source": [
        "iris = load_iris()\n",
        "X = iris['data']\n",
        "Y = iris['target']\n",
        "columns = iris['feature_names']\n",
        "\n",
        "X_train, X_test, y_train, y_test = train_test_split(X, Y, test_size=0.3, random_state=42)"
      ]
    },
    {
      "cell_type": "markdown",
      "id": "5bb309fe38aa37cf",
      "metadata": {
        "collapsed": false,
        "id": "5bb309fe38aa37cf"
      },
      "source": [
        "Show your implementation on different dataset (5 points)"
      ]
    },
    {
      "cell_type": "code",
      "execution_count": 107,
      "id": "9790eb012ba39334",
      "metadata": {
        "ExecuteTime": {
          "end_time": "2024-12-04T22:15:26.949679Z",
          "start_time": "2024-12-04T22:15:26.939369Z"
        },
        "id": "9790eb012ba39334",
        "colab": {
          "base_uri": "https://localhost:8080/"
        },
        "outputId": "97a16224-c242-438b-e849-7faff3284651"
      },
      "outputs": [
        {
          "output_type": "stream",
          "name": "stdout",
          "text": [
            "Implemented Decision Tree accuracy: 0.9333333333333333\n"
          ]
        }
      ],
      "source": [
        "'''Decision Tree'''\n",
        "#instantiate and train the decision tree model\n",
        "dt = DecisionTree(columns=columns, depth=3)\n",
        "dt.fit(X_train, y_train)\n",
        "\n",
        "#predict using the decision tree model\n",
        "dt_pred = dt.predict(X_test)\n",
        "dt_acc = accuracy_score(y_test, dt_pred)\n",
        "print(f'Implemented Decision Tree accuracy: {dt_acc}')"
      ]
    }
  ],
  "metadata": {
    "colab": {
      "provenance": []
    },
    "kernelspec": {
      "display_name": "Python 3",
      "language": "python",
      "name": "python3"
    },
    "language_info": {
      "codemirror_mode": {
        "name": "ipython",
        "version": 3
      },
      "file_extension": ".py",
      "mimetype": "text/x-python",
      "name": "python",
      "nbconvert_exporter": "python",
      "pygments_lexer": "ipython3",
      "version": "3.11.10"
    }
  },
  "nbformat": 4,
  "nbformat_minor": 5
}